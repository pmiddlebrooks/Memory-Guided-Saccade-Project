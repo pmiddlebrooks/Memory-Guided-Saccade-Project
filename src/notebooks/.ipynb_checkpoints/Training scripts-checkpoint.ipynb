{
 "cells": [
  {
   "cell_type": "markdown",
   "metadata": {},
   "source": [
    "# Establish working environment and matlab paths"
   ]
  },
  {
   "cell_type": "code",
   "execution_count": null,
   "metadata": {
    "collapsed": true
   },
   "outputs": [],
   "source": [
    "%%matlab\n",
    "\n",
    "% Which computer are you on?\n",
    "\n",
    "if isdir('/Volumes/HD-1/Users/paulmiddlebrooks/')\n",
    "    projectRoot = '/Volumes/HD-1/Users/paulmiddlebrooks/memory_guided_saccades';\n",
    "elseif isdir('/Volumes/Macintosh HD/Users/elseyjg/')\n",
    "    projectRoot = '/Volumes/Macintosh HD/Users/elseyjg/Memory-Guided-Saccade-Project';    \n",
    "else\n",
    "    disp('You need to add another condition or the file path is wrong.')\n",
    "end\n",
    "\n",
    "dataRoot = fullfile(projectRoot, 'data');\n",
    "matRoot = fullfile(projectRoot, 'src/matlab');\n",
    "\n",
    "addpath(genpath(matRoot));\n",
    "addpath(genpath(fullfile(matRoot,'behavior')));\n",
    "addpath(genpath(fullfile(matRoot,'mem')));\n",
    "addpath(genpath(fullfile(matRoot,'neural')));\n",
    "\n",
    "% Make this project directory your working directory\n",
    "cd(matRoot)\n"
   ]
  },
  {
   "cell_type": "markdown",
   "metadata": {},
   "source": [
    "# Open a data file"
   ]
  },
  {
   "cell_type": "markdown",
   "metadata": {},
   "source": [
    "### Open the session list for a subject"
   ]
  },
  {
   "cell_type": "code",
   "execution_count": null,
   "metadata": {
    "collapsed": true
   },
   "outputs": [],
   "source": [
    "subject = 'joule';\n",
    "\n",
    "%Open the list of memory guided saccade sessions\n",
    "fid=  fopen(fullfile(dataRoot,subject, ['mem_sessions_',subject,'.csv']));\n",
    "\n",
    "\n",
    "nCol = 5;\n",
    "formatSpec = '%s';\n",
    "mHeader = textscan(fid, formatSpec, nCol, 'Delimiter', ',');\n",
    "\n",
    "mData = textscan(fid, '%s %s %d %d %d', 'Delimiter', ',','TreatAsEmpty',{'NA','na'});\n",
    "\n",
    "sessionList     = mData{1};\n",
    "hemisphereList  = mData{2};\n",
    "neuronLogical   = logical(mData{3});\n",
    "lfpLogical      = mData{4};\n",
    "eegLogical      = mData{5};\n",
    "\n",
    "%Extract only sessions with spike data:\n",
    "sessionList = sessionList(neuronLogical);\n"
   ]
  },
  {
   "cell_type": "markdown",
   "metadata": {},
   "source": [
    "### Pick a session and load the data"
   ]
  },
  {
   "cell_type": "code",
   "execution_count": null,
   "metadata": {
    "collapsed": true
   },
   "outputs": [],
   "source": [
    "sessionInd = 1;\n",
    "session = sessionList{sessionInd};\n",
    "\n",
    "[trialData, SessionData] = load_data(subject, session, dataRoot)\n"
   ]
  },
  {
   "cell_type": "markdown",
   "metadata": {},
   "source": [
    "# Sort trials based on trial type criteria"
   ]
  },
  {
   "cell_type": "code",
   "execution_count": null,
   "metadata": {
    "collapsed": true
   },
   "outputs": [],
   "source": [
    "outcome = {'saccToTarget'}\n",
    "side = {'right'}\n",
    "\n",
    "\n",
    "trials = mem_trial_selection(trialData, outcome, side);"
   ]
  },
  {
   "cell_type": "markdown",
   "metadata": {},
   "source": [
    "# Extract spike data (as aligned rasters) for a unit, aligned on event/epoch"
   ]
  },
  {
   "cell_type": "code",
   "execution_count": null,
   "metadata": {
    "collapsed": true
   },
   "outputs": [],
   "source": [
    "% Set up the variables\n",
    "unitIndex = 1;\n",
    "alignEvent = 'targOn';\n",
    "alignList = trialData.(alignEvent)(trials);\n",
    " \n",
    "    \n",
    "% Get the rasters (and what index they align to)\n",
    "[alignedRasters, alignmentIndex] = spike_to_raster(trialData.spikeData(trials, unitIndex), alignList);\n"
   ]
  },
  {
   "cell_type": "markdown",
   "metadata": {},
   "source": [
    "# Plot rasters to see each trial's spiking times"
   ]
  },
  {
   "cell_type": "code",
   "execution_count": null,
   "metadata": {
    "collapsed": true
   },
   "outputs": [],
   "source": [
    "% Set up variables\n",
    "plotWindow = [-99 : 400];\n",
    "nTrial = length(trials);\n",
    "\n",
    "\n",
    "% Open a plot and tell matlab to hold the axes so we can plot multiple things on it\n",
    "figure(1)\n",
    "colormap(flipud(gray))\n",
    "hold all;\n",
    "\n",
    "% Plot the rasters    \n",
    "imagesc(plotWindow, 1 : nTrial, alignedRasters(:, alignmentIndex + plotWindow))\n",
    "set(gca,'YDir','normal')\n",
    "\n",
    "% Plot a vertical line where event occured\n",
    "plot([0 0], [0 nTrial*.8], '-k', 'lineWidth', 3)\n",
    "\n",
    "% Change axes limits to whatever you desire\n",
    "ylim([0 nTrial])\n",
    "xlim([plotWindow(1) plotWindow(end)])\n"
   ]
  },
  {
   "cell_type": "markdown",
   "metadata": {},
   "source": [
    "# Convert rasters to spike density function"
   ]
  },
  {
   "cell_type": "code",
   "execution_count": null,
   "metadata": {
    "collapsed": true
   },
   "outputs": [],
   "source": []
  },
  {
   "cell_type": "code",
   "execution_count": null,
   "metadata": {
    "collapsed": true
   },
   "outputs": [],
   "source": []
  },
  {
   "cell_type": "markdown",
   "metadata": {},
   "source": [
    "#Convert lots of spike density functions into a heat map plot"
   ]
  },
  {
   "cell_type": "code",
   "execution_count": null,
   "metadata": {
    "collapsed": true
   },
   "outputs": [],
   "source": []
  },
  {
   "cell_type": "markdown",
   "metadata": {},
   "source": [
    "#For each session, plot across-contact SDFs as heatmaps"
   ]
  },
  {
   "cell_type": "code",
   "execution_count": null,
   "metadata": {
    "collapsed": true
   },
   "outputs": [],
   "source": []
  },
  {
   "cell_type": "markdown",
   "metadata": {},
   "source": [
    "# Remove the paths, so you can use your normal codes"
   ]
  },
  {
   "cell_type": "code",
   "execution_count": null,
   "metadata": {
    "collapsed": true
   },
   "outputs": [],
   "source": [
    "rmpath(matRoot);\n",
    "rmpath(fullfile(matRoot,'behavior'));\n",
    "rmpath(fullfile(matRoot,'mem'));\n",
    "rmpath(fullfile(matRoot,'neural'));\n"
   ]
  }
 ],
 "metadata": {
  "kernelspec": {
   "display_name": "Python 2",
   "language": "python",
   "name": "python2"
  },
  "language_info": {
   "codemirror_mode": {
    "name": "ipython",
    "version": 2
   },
   "file_extension": ".py",
   "mimetype": "text/x-python",
   "name": "python",
   "nbconvert_exporter": "python",
   "pygments_lexer": "ipython2",
   "version": "2.7.13"
  }
 },
 "nbformat": 4,
 "nbformat_minor": 0
}
