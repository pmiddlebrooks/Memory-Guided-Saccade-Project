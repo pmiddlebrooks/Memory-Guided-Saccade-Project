{
 "cells": [
  {
   "cell_type": "markdown",
   "metadata": {},
   "source": [
    "# Establish working environment and matlab paths"
   ]
  },
  {
   "cell_type": "code",
   "execution_count": null,
   "metadata": {
    "collapsed": true
   },
   "outputs": [],
   "source": [
    "%%matlab\n",
    "\n",
    "% Which computer are you on?\n",
    "\n",
    "if isdir('/Volumes/HD-1/Users/paulmiddlebrooks/')\n",
    "    projectRoot = '/Volumes/HD-1/Users/paulmiddlebrooks/memory_guided_saccades';\n",
    "elseif isdir('/Volumes/Macintosh HD/Users/elseyjg/')\n",
    "    projectRoot = '/Volumes/Macintosh HD/Users/elseyjg/Memory-Guided-Saccade-Project';    \n",
    "else\n",
    "    disp('You need to add another condition or the file path is wrong.')\n",
    "end\n",
    "\n",
    "dataRoot = fullfile(projectRoot, 'data');\n",
    "matRoot = fullfile(projectRoot, 'src/matlab');\n",
    "\n",
    "addpath(genpath(matRoot));\n",
    "addpath(genpath(fullfile(matRoot,'behavior')));\n",
    "addpath(genpath(fullfile(matRoot,'mem')));\n",
    "addpath(genpath(fullfile(matRoot,'neural')));\n",
    "\n",
    "% Make this project directory your working directory\n",
    "cd(matRoot)\n"
   ]
  },
  {
   "cell_type": "markdown",
   "metadata": {},
   "source": [
    "# Open a data file"
   ]
  },
  {
   "cell_type": "markdown",
   "metadata": {},
   "source": [
    "### Open the session list for a subject"
   ]
  },
  {
   "cell_type": "code",
   "execution_count": null,
   "metadata": {
    "collapsed": true
   },
   "outputs": [],
   "source": [
    "subject = 'joule';\n",
    "\n",
    "%Open the list of memory guided saccade sessions\n",
    "fid=  fopen(fullfile(dataRoot,subject, ['mem_sessions_',subject,'.csv']));\n",
    "\n",
    "\n",
    "nCol = 5;\n",
    "formatSpec = '%s';\n",
    "mHeader = textscan(fid, formatSpec, nCol, 'Delimiter', ',');\n",
    "\n",
    "mData = textscan(fid, '%s %s %d %d %d', 'Delimiter', ',','TreatAsEmpty',{'NA','na'});\n",
    "\n",
    "sessionList     = mData{1};\n",
    "hemisphereList  = mData{2};\n",
    "neuronLogical   = logical(mData{3});\n",
    "lfpLogical      = mData{4};\n",
    "eegLogical      = mData{5};\n",
    "\n",
    "%Extract only sessions with spike data:\n",
    "sessionList = sessionList(neuronLogical);\n"
   ]
  },
  {
   "cell_type": "markdown",
   "metadata": {},
   "source": [
    "### Pick a session and load the data"
   ]
  },
  {
   "cell_type": "code",
   "execution_count": null,
   "metadata": {
    "collapsed": true
   },
   "outputs": [],
   "source": [
    "sessionInd = 1;\n",
    "session = sessionList{sessionInd};\n",
    "\n",
    "[trialData, SessionData] = load_data(subject, session, dataRoot)\n"
   ]
  },
  {
   "cell_type": "markdown",
   "metadata": {},
   "source": [
    "# Sort trials based on trial type criteria"
   ]
  },
  {
   "cell_type": "code",
   "execution_count": null,
   "metadata": {
    "collapsed": true
   },
   "outputs": [],
   "source": []
  },
  {
   "cell_type": "markdown",
   "metadata": {},
   "source": [
    "#Extract spike data within some epoch"
   ]
  },
  {
   "cell_type": "code",
   "execution_count": null,
   "metadata": {
    "collapsed": true
   },
   "outputs": [],
   "source": []
  },
  {
   "cell_type": "markdown",
   "metadata": {},
   "source": [
    "#Convert spike times to rasters"
   ]
  },
  {
   "cell_type": "code",
   "execution_count": null,
   "metadata": {
    "collapsed": true
   },
   "outputs": [],
   "source": []
  },
  {
   "cell_type": "markdown",
   "metadata": {},
   "source": [
    "#Convert rasters to spike density function"
   ]
  },
  {
   "cell_type": "code",
   "execution_count": null,
   "metadata": {
    "collapsed": true
   },
   "outputs": [],
   "source": []
  },
  {
   "cell_type": "markdown",
   "metadata": {},
   "source": [
    "#Convert lots of spike density functions into a heat map plot"
   ]
  },
  {
   "cell_type": "code",
   "execution_count": null,
   "metadata": {
    "collapsed": true
   },
   "outputs": [],
   "source": []
  },
  {
   "cell_type": "markdown",
   "metadata": {},
   "source": [
    "#For each session, plot across-contact SDFs as heatmaps"
   ]
  },
  {
   "cell_type": "code",
   "execution_count": null,
   "metadata": {
    "collapsed": true
   },
   "outputs": [],
   "source": []
  }
 ],
 "metadata": {
  "kernelspec": {
   "display_name": "Python 2",
   "language": "python",
   "name": "python2"
  },
  "language_info": {
   "codemirror_mode": {
    "name": "ipython",
    "version": 2
   },
   "file_extension": ".py",
   "mimetype": "text/x-python",
   "name": "python",
   "nbconvert_exporter": "python",
   "pygments_lexer": "ipython2",
   "version": "2.7.13"
  }
 },
 "nbformat": 4,
 "nbformat_minor": 0
}
